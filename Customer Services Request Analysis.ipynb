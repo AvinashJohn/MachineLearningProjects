{
 "cells": [
  {
   "cell_type": "code",
   "execution_count": null,
   "metadata": {},
   "outputs": [],
   "source": [
    "#                   Project :    Customer Services Request Analysis"
   ]
  },
  {
   "cell_type": "code",
   "execution_count": null,
   "metadata": {},
   "outputs": [],
   "source": [
    "# Import Libraries"
   ]
  },
  {
   "cell_type": "code",
   "execution_count": 35,
   "metadata": {},
   "outputs": [],
   "source": [
    "import pandas as pd\n",
    "import numpy as np\n",
    "from matplotlib import pyplot as plt\n",
    "import scipy.stats as st\n",
    "import seaborn as sns\n",
    "from scipy.stats import chi2_contingency\n",
    "from scipy.stats import chi2"
   ]
  },
  {
   "cell_type": "code",
   "execution_count": null,
   "metadata": {},
   "outputs": [],
   "source": [
    "# 1. Import data 311 NYC service request."
   ]
  },
  {
   "cell_type": "code",
   "execution_count": 36,
   "metadata": {},
   "outputs": [
    {
     "data": {
      "text/html": [
       "<div>\n",
       "<style scoped>\n",
       "    .dataframe tbody tr th:only-of-type {\n",
       "        vertical-align: middle;\n",
       "    }\n",
       "\n",
       "    .dataframe tbody tr th {\n",
       "        vertical-align: top;\n",
       "    }\n",
       "\n",
       "    .dataframe thead th {\n",
       "        text-align: right;\n",
       "    }\n",
       "</style>\n",
       "<table border=\"1\" class=\"dataframe\">\n",
       "  <thead>\n",
       "    <tr style=\"text-align: right;\">\n",
       "      <th></th>\n",
       "      <th>Unique Key</th>\n",
       "      <th>Created Date</th>\n",
       "      <th>Closed Date</th>\n",
       "      <th>Agency</th>\n",
       "      <th>Agency Name</th>\n",
       "      <th>Complaint Type</th>\n",
       "      <th>Descriptor</th>\n",
       "      <th>Location Type</th>\n",
       "      <th>Incident Zip</th>\n",
       "      <th>Incident Address</th>\n",
       "      <th>...</th>\n",
       "      <th>Bridge Highway Name</th>\n",
       "      <th>Bridge Highway Direction</th>\n",
       "      <th>Road Ramp</th>\n",
       "      <th>Bridge Highway Segment</th>\n",
       "      <th>Garage Lot Name</th>\n",
       "      <th>Ferry Direction</th>\n",
       "      <th>Ferry Terminal Name</th>\n",
       "      <th>Latitude</th>\n",
       "      <th>Longitude</th>\n",
       "      <th>Location</th>\n",
       "    </tr>\n",
       "  </thead>\n",
       "  <tbody>\n",
       "    <tr>\n",
       "      <th>0</th>\n",
       "      <td>32310363</td>\n",
       "      <td>2015-12-31 23:59:45</td>\n",
       "      <td>2016-01-01 00:55:00</td>\n",
       "      <td>NYPD</td>\n",
       "      <td>New York City Police Department</td>\n",
       "      <td>Noise - Street/Sidewalk</td>\n",
       "      <td>Loud Music/Party</td>\n",
       "      <td>Street/Sidewalk</td>\n",
       "      <td>10034.0</td>\n",
       "      <td>71 VERMILYEA AVENUE</td>\n",
       "      <td>...</td>\n",
       "      <td>NaN</td>\n",
       "      <td>NaN</td>\n",
       "      <td>NaN</td>\n",
       "      <td>NaN</td>\n",
       "      <td>NaN</td>\n",
       "      <td>NaN</td>\n",
       "      <td>NaN</td>\n",
       "      <td>40.865682</td>\n",
       "      <td>-73.923501</td>\n",
       "      <td>(40.86568153633767, -73.92350095571744)</td>\n",
       "    </tr>\n",
       "    <tr>\n",
       "      <th>1</th>\n",
       "      <td>32309934</td>\n",
       "      <td>2015-12-31 23:59:44</td>\n",
       "      <td>2016-01-01 01:26:00</td>\n",
       "      <td>NYPD</td>\n",
       "      <td>New York City Police Department</td>\n",
       "      <td>Blocked Driveway</td>\n",
       "      <td>No Access</td>\n",
       "      <td>Street/Sidewalk</td>\n",
       "      <td>11105.0</td>\n",
       "      <td>27-07 23 AVENUE</td>\n",
       "      <td>...</td>\n",
       "      <td>NaN</td>\n",
       "      <td>NaN</td>\n",
       "      <td>NaN</td>\n",
       "      <td>NaN</td>\n",
       "      <td>NaN</td>\n",
       "      <td>NaN</td>\n",
       "      <td>NaN</td>\n",
       "      <td>40.775945</td>\n",
       "      <td>-73.915094</td>\n",
       "      <td>(40.775945312321085, -73.91509393898605)</td>\n",
       "    </tr>\n",
       "    <tr>\n",
       "      <th>2</th>\n",
       "      <td>32309159</td>\n",
       "      <td>2015-12-31 23:59:29</td>\n",
       "      <td>2016-01-01 04:51:00</td>\n",
       "      <td>NYPD</td>\n",
       "      <td>New York City Police Department</td>\n",
       "      <td>Blocked Driveway</td>\n",
       "      <td>No Access</td>\n",
       "      <td>Street/Sidewalk</td>\n",
       "      <td>10458.0</td>\n",
       "      <td>2897 VALENTINE AVENUE</td>\n",
       "      <td>...</td>\n",
       "      <td>NaN</td>\n",
       "      <td>NaN</td>\n",
       "      <td>NaN</td>\n",
       "      <td>NaN</td>\n",
       "      <td>NaN</td>\n",
       "      <td>NaN</td>\n",
       "      <td>NaN</td>\n",
       "      <td>40.870325</td>\n",
       "      <td>-73.888525</td>\n",
       "      <td>(40.870324522111424, -73.88852464418646)</td>\n",
       "    </tr>\n",
       "    <tr>\n",
       "      <th>3</th>\n",
       "      <td>32305098</td>\n",
       "      <td>2015-12-31 23:57:46</td>\n",
       "      <td>2016-01-01 07:43:00</td>\n",
       "      <td>NYPD</td>\n",
       "      <td>New York City Police Department</td>\n",
       "      <td>Illegal Parking</td>\n",
       "      <td>Commercial Overnight Parking</td>\n",
       "      <td>Street/Sidewalk</td>\n",
       "      <td>10461.0</td>\n",
       "      <td>2940 BAISLEY AVENUE</td>\n",
       "      <td>...</td>\n",
       "      <td>NaN</td>\n",
       "      <td>NaN</td>\n",
       "      <td>NaN</td>\n",
       "      <td>NaN</td>\n",
       "      <td>NaN</td>\n",
       "      <td>NaN</td>\n",
       "      <td>NaN</td>\n",
       "      <td>40.835994</td>\n",
       "      <td>-73.828379</td>\n",
       "      <td>(40.83599404683083, -73.82837939584206)</td>\n",
       "    </tr>\n",
       "    <tr>\n",
       "      <th>4</th>\n",
       "      <td>32306529</td>\n",
       "      <td>2015-12-31 23:56:58</td>\n",
       "      <td>2016-01-01 03:24:00</td>\n",
       "      <td>NYPD</td>\n",
       "      <td>New York City Police Department</td>\n",
       "      <td>Illegal Parking</td>\n",
       "      <td>Blocked Sidewalk</td>\n",
       "      <td>Street/Sidewalk</td>\n",
       "      <td>11373.0</td>\n",
       "      <td>87-14 57 ROAD</td>\n",
       "      <td>...</td>\n",
       "      <td>NaN</td>\n",
       "      <td>NaN</td>\n",
       "      <td>NaN</td>\n",
       "      <td>NaN</td>\n",
       "      <td>NaN</td>\n",
       "      <td>NaN</td>\n",
       "      <td>NaN</td>\n",
       "      <td>40.733060</td>\n",
       "      <td>-73.874170</td>\n",
       "      <td>(40.733059618956815, -73.87416975810375)</td>\n",
       "    </tr>\n",
       "  </tbody>\n",
       "</table>\n",
       "<p>5 rows × 53 columns</p>\n",
       "</div>"
      ],
      "text/plain": [
       "   Unique Key        Created Date         Closed Date Agency  \\\n",
       "0    32310363 2015-12-31 23:59:45 2016-01-01 00:55:00   NYPD   \n",
       "1    32309934 2015-12-31 23:59:44 2016-01-01 01:26:00   NYPD   \n",
       "2    32309159 2015-12-31 23:59:29 2016-01-01 04:51:00   NYPD   \n",
       "3    32305098 2015-12-31 23:57:46 2016-01-01 07:43:00   NYPD   \n",
       "4    32306529 2015-12-31 23:56:58 2016-01-01 03:24:00   NYPD   \n",
       "\n",
       "                       Agency Name           Complaint Type  \\\n",
       "0  New York City Police Department  Noise - Street/Sidewalk   \n",
       "1  New York City Police Department         Blocked Driveway   \n",
       "2  New York City Police Department         Blocked Driveway   \n",
       "3  New York City Police Department          Illegal Parking   \n",
       "4  New York City Police Department          Illegal Parking   \n",
       "\n",
       "                     Descriptor    Location Type  Incident Zip  \\\n",
       "0              Loud Music/Party  Street/Sidewalk       10034.0   \n",
       "1                     No Access  Street/Sidewalk       11105.0   \n",
       "2                     No Access  Street/Sidewalk       10458.0   \n",
       "3  Commercial Overnight Parking  Street/Sidewalk       10461.0   \n",
       "4              Blocked Sidewalk  Street/Sidewalk       11373.0   \n",
       "\n",
       "        Incident Address  ... Bridge Highway Name Bridge Highway Direction  \\\n",
       "0    71 VERMILYEA AVENUE  ...                 NaN                      NaN   \n",
       "1        27-07 23 AVENUE  ...                 NaN                      NaN   \n",
       "2  2897 VALENTINE AVENUE  ...                 NaN                      NaN   \n",
       "3    2940 BAISLEY AVENUE  ...                 NaN                      NaN   \n",
       "4          87-14 57 ROAD  ...                 NaN                      NaN   \n",
       "\n",
       "  Road Ramp Bridge Highway Segment Garage Lot Name Ferry Direction  \\\n",
       "0       NaN                    NaN             NaN             NaN   \n",
       "1       NaN                    NaN             NaN             NaN   \n",
       "2       NaN                    NaN             NaN             NaN   \n",
       "3       NaN                    NaN             NaN             NaN   \n",
       "4       NaN                    NaN             NaN             NaN   \n",
       "\n",
       "  Ferry Terminal Name   Latitude  Longitude  \\\n",
       "0                 NaN  40.865682 -73.923501   \n",
       "1                 NaN  40.775945 -73.915094   \n",
       "2                 NaN  40.870325 -73.888525   \n",
       "3                 NaN  40.835994 -73.828379   \n",
       "4                 NaN  40.733060 -73.874170   \n",
       "\n",
       "                                   Location  \n",
       "0   (40.86568153633767, -73.92350095571744)  \n",
       "1  (40.775945312321085, -73.91509393898605)  \n",
       "2  (40.870324522111424, -73.88852464418646)  \n",
       "3   (40.83599404683083, -73.82837939584206)  \n",
       "4  (40.733059618956815, -73.87416975810375)  \n",
       "\n",
       "[5 rows x 53 columns]"
      ]
     },
     "execution_count": 36,
     "metadata": {},
     "output_type": "execute_result"
    }
   ],
   "source": [
    "data = pd.read_csv('311_Service_Requests_from_2010_to_Present.csv',low_memory=False,parse_dates=['Created Date', 'Closed Date'])\n",
    "data.head()             "
   ]
  },
  {
   "cell_type": "code",
   "execution_count": 48,
   "metadata": {},
   "outputs": [
    {
     "data": {
      "text/plain": [
       "Unique Key                                  int64\n",
       "Created Date                       datetime64[ns]\n",
       "Closed Date                        datetime64[ns]\n",
       "Agency                                     object\n",
       "Agency Name                                object\n",
       "Complaint Type                             object\n",
       "Descriptor                                 object\n",
       "Location Type                              object\n",
       "Incident Zip                              float64\n",
       "Incident Address                           object\n",
       "Street Name                                object\n",
       "Cross Street 1                             object\n",
       "Cross Street 2                             object\n",
       "Address Type                               object\n",
       "City                                       object\n",
       "Facility Type                              object\n",
       "Status                                     object\n",
       "Due Date                                   object\n",
       "Resolution Description                     object\n",
       "Resolution Action Updated Date             object\n",
       "Community Board                            object\n",
       "Borough                                    object\n",
       "X Coordinate (State Plane)                float64\n",
       "Y Coordinate (State Plane)                float64\n",
       "Park Borough                               object\n",
       "School Not Found                           object\n",
       "Latitude                                  float64\n",
       "Longitude                                 float64\n",
       "Location                                   object\n",
       "Request_Closing_Time              timedelta64[ns]\n",
       "dtype: object"
      ]
     },
     "execution_count": 48,
     "metadata": {},
     "output_type": "execute_result"
    }
   ],
   "source": [
    "# Created Date and Closed Date’ to datetime datatype\n",
    "data.dtypes"
   ]
  },
  {
   "cell_type": "code",
   "execution_count": null,
   "metadata": {},
   "outputs": [],
   "source": [
    "# Data Cleaning"
   ]
  },
  {
   "cell_type": "code",
   "execution_count": 49,
   "metadata": {},
   "outputs": [
    {
     "data": {
      "text/html": [
       "<div>\n",
       "<style scoped>\n",
       "    .dataframe tbody tr th:only-of-type {\n",
       "        vertical-align: middle;\n",
       "    }\n",
       "\n",
       "    .dataframe tbody tr th {\n",
       "        vertical-align: top;\n",
       "    }\n",
       "\n",
       "    .dataframe thead th {\n",
       "        text-align: right;\n",
       "    }\n",
       "</style>\n",
       "<table border=\"1\" class=\"dataframe\">\n",
       "  <thead>\n",
       "    <tr style=\"text-align: right;\">\n",
       "      <th></th>\n",
       "      <th>Unique Key</th>\n",
       "      <th>Created Date</th>\n",
       "      <th>Closed Date</th>\n",
       "      <th>Agency</th>\n",
       "      <th>Agency Name</th>\n",
       "      <th>Complaint Type</th>\n",
       "      <th>Descriptor</th>\n",
       "      <th>Location Type</th>\n",
       "      <th>Incident Zip</th>\n",
       "      <th>Incident Address</th>\n",
       "      <th>...</th>\n",
       "      <th>Community Board</th>\n",
       "      <th>Borough</th>\n",
       "      <th>X Coordinate (State Plane)</th>\n",
       "      <th>Y Coordinate (State Plane)</th>\n",
       "      <th>Park Borough</th>\n",
       "      <th>School Not Found</th>\n",
       "      <th>Latitude</th>\n",
       "      <th>Longitude</th>\n",
       "      <th>Location</th>\n",
       "      <th>Request_Closing_Time</th>\n",
       "    </tr>\n",
       "  </thead>\n",
       "  <tbody>\n",
       "    <tr>\n",
       "      <th>188102</th>\n",
       "      <td>31043792</td>\n",
       "      <td>2015-07-11 00:25:00</td>\n",
       "      <td>2015-07-11 01:39:00</td>\n",
       "      <td>NYPD</td>\n",
       "      <td>New York City Police Department</td>\n",
       "      <td>Illegal Parking</td>\n",
       "      <td>Commercial Overnight Parking</td>\n",
       "      <td>Street/Sidewalk</td>\n",
       "      <td>11692.0</td>\n",
       "      <td>105 BEACH 61 STREET</td>\n",
       "      <td>...</td>\n",
       "      <td>14 QUEENS</td>\n",
       "      <td>QUEENS</td>\n",
       "      <td>1042488.0</td>\n",
       "      <td>154292.0</td>\n",
       "      <td>QUEENS</td>\n",
       "      <td>N</td>\n",
       "      <td>40.589981</td>\n",
       "      <td>-73.790313</td>\n",
       "      <td>(40.58998074407277, -73.79031328313127)</td>\n",
       "      <td>01:14:00</td>\n",
       "    </tr>\n",
       "    <tr>\n",
       "      <th>185064</th>\n",
       "      <td>31064547</td>\n",
       "      <td>2015-07-13 10:26:32</td>\n",
       "      <td>2015-07-13 11:35:05</td>\n",
       "      <td>NYPD</td>\n",
       "      <td>New York City Police Department</td>\n",
       "      <td>Blocked Driveway</td>\n",
       "      <td>No Access</td>\n",
       "      <td>Street/Sidewalk</td>\n",
       "      <td>11692.0</td>\n",
       "      <td>166 BEACH 60 STREET</td>\n",
       "      <td>...</td>\n",
       "      <td>14 QUEENS</td>\n",
       "      <td>QUEENS</td>\n",
       "      <td>1042700.0</td>\n",
       "      <td>154724.0</td>\n",
       "      <td>QUEENS</td>\n",
       "      <td>N</td>\n",
       "      <td>40.591165</td>\n",
       "      <td>-73.789546</td>\n",
       "      <td>(40.59116509873905, -73.78954624023964)</td>\n",
       "      <td>01:08:33</td>\n",
       "    </tr>\n",
       "    <tr>\n",
       "      <th>190308</th>\n",
       "      <td>31032847</td>\n",
       "      <td>2015-07-09 00:06:00</td>\n",
       "      <td>2015-07-09 01:27:00</td>\n",
       "      <td>NYPD</td>\n",
       "      <td>New York City Police Department</td>\n",
       "      <td>Illegal Parking</td>\n",
       "      <td>Blocked Hydrant</td>\n",
       "      <td>Street/Sidewalk</td>\n",
       "      <td>11692.0</td>\n",
       "      <td>246 BEACH 77 STREET</td>\n",
       "      <td>...</td>\n",
       "      <td>14 QUEENS</td>\n",
       "      <td>QUEENS</td>\n",
       "      <td>1038538.0</td>\n",
       "      <td>154159.0</td>\n",
       "      <td>QUEENS</td>\n",
       "      <td>N</td>\n",
       "      <td>40.589641</td>\n",
       "      <td>-73.804536</td>\n",
       "      <td>(40.58964075946563, -73.80453633186117)</td>\n",
       "      <td>01:21:00</td>\n",
       "    </tr>\n",
       "    <tr>\n",
       "      <th>215223</th>\n",
       "      <td>30873908</td>\n",
       "      <td>2015-06-17 21:30:55</td>\n",
       "      <td>2015-06-17 23:51:35</td>\n",
       "      <td>NYPD</td>\n",
       "      <td>New York City Police Department</td>\n",
       "      <td>Noise - House of Worship</td>\n",
       "      <td>Loud Music/Party</td>\n",
       "      <td>House of Worship</td>\n",
       "      <td>11692.0</td>\n",
       "      <td>74-05 ROCKAWAY BEACH BOULEVARD</td>\n",
       "      <td>...</td>\n",
       "      <td>14 QUEENS</td>\n",
       "      <td>QUEENS</td>\n",
       "      <td>1039209.0</td>\n",
       "      <td>153863.0</td>\n",
       "      <td>QUEENS</td>\n",
       "      <td>N</td>\n",
       "      <td>40.588824</td>\n",
       "      <td>-73.802123</td>\n",
       "      <td>(40.588824165589685, -73.80212281539637)</td>\n",
       "      <td>02:20:40</td>\n",
       "    </tr>\n",
       "    <tr>\n",
       "      <th>249811</th>\n",
       "      <td>30648522</td>\n",
       "      <td>2015-05-18 21:31:19</td>\n",
       "      <td>2015-05-18 23:43:53</td>\n",
       "      <td>NYPD</td>\n",
       "      <td>New York City Police Department</td>\n",
       "      <td>Noise - House of Worship</td>\n",
       "      <td>Loud Music/Party</td>\n",
       "      <td>House of Worship</td>\n",
       "      <td>11692.0</td>\n",
       "      <td>74-05 ROCKAWAY BEACH BOULEVARD</td>\n",
       "      <td>...</td>\n",
       "      <td>14 QUEENS</td>\n",
       "      <td>QUEENS</td>\n",
       "      <td>1039209.0</td>\n",
       "      <td>153863.0</td>\n",
       "      <td>QUEENS</td>\n",
       "      <td>N</td>\n",
       "      <td>40.588824</td>\n",
       "      <td>-73.802123</td>\n",
       "      <td>(40.588824165589685, -73.80212281539637)</td>\n",
       "      <td>02:12:34</td>\n",
       "    </tr>\n",
       "  </tbody>\n",
       "</table>\n",
       "<p>5 rows × 30 columns</p>\n",
       "</div>"
      ],
      "text/plain": [
       "        Unique Key        Created Date         Closed Date Agency  \\\n",
       "188102    31043792 2015-07-11 00:25:00 2015-07-11 01:39:00   NYPD   \n",
       "185064    31064547 2015-07-13 10:26:32 2015-07-13 11:35:05   NYPD   \n",
       "190308    31032847 2015-07-09 00:06:00 2015-07-09 01:27:00   NYPD   \n",
       "215223    30873908 2015-06-17 21:30:55 2015-06-17 23:51:35   NYPD   \n",
       "249811    30648522 2015-05-18 21:31:19 2015-05-18 23:43:53   NYPD   \n",
       "\n",
       "                            Agency Name            Complaint Type  \\\n",
       "188102  New York City Police Department           Illegal Parking   \n",
       "185064  New York City Police Department          Blocked Driveway   \n",
       "190308  New York City Police Department           Illegal Parking   \n",
       "215223  New York City Police Department  Noise - House of Worship   \n",
       "249811  New York City Police Department  Noise - House of Worship   \n",
       "\n",
       "                          Descriptor     Location Type  Incident Zip  \\\n",
       "188102  Commercial Overnight Parking   Street/Sidewalk       11692.0   \n",
       "185064                     No Access   Street/Sidewalk       11692.0   \n",
       "190308               Blocked Hydrant   Street/Sidewalk       11692.0   \n",
       "215223              Loud Music/Party  House of Worship       11692.0   \n",
       "249811              Loud Music/Party  House of Worship       11692.0   \n",
       "\n",
       "                      Incident Address  ... Community Board Borough  \\\n",
       "188102             105 BEACH 61 STREET  ...       14 QUEENS  QUEENS   \n",
       "185064             166 BEACH 60 STREET  ...       14 QUEENS  QUEENS   \n",
       "190308             246 BEACH 77 STREET  ...       14 QUEENS  QUEENS   \n",
       "215223  74-05 ROCKAWAY BEACH BOULEVARD  ...       14 QUEENS  QUEENS   \n",
       "249811  74-05 ROCKAWAY BEACH BOULEVARD  ...       14 QUEENS  QUEENS   \n",
       "\n",
       "       X Coordinate (State Plane) Y Coordinate (State Plane) Park Borough  \\\n",
       "188102                  1042488.0                   154292.0       QUEENS   \n",
       "185064                  1042700.0                   154724.0       QUEENS   \n",
       "190308                  1038538.0                   154159.0       QUEENS   \n",
       "215223                  1039209.0                   153863.0       QUEENS   \n",
       "249811                  1039209.0                   153863.0       QUEENS   \n",
       "\n",
       "       School Not Found   Latitude  Longitude  \\\n",
       "188102                N  40.589981 -73.790313   \n",
       "185064                N  40.591165 -73.789546   \n",
       "190308                N  40.589641 -73.804536   \n",
       "215223                N  40.588824 -73.802123   \n",
       "249811                N  40.588824 -73.802123   \n",
       "\n",
       "                                        Location Request_Closing_Time  \n",
       "188102   (40.58998074407277, -73.79031328313127)             01:14:00  \n",
       "185064   (40.59116509873905, -73.78954624023964)             01:08:33  \n",
       "190308   (40.58964075946563, -73.80453633186117)             01:21:00  \n",
       "215223  (40.588824165589685, -73.80212281539637)             02:20:40  \n",
       "249811  (40.588824165589685, -73.80212281539637)             02:12:34  \n",
       "\n",
       "[5 rows x 30 columns]"
      ]
     },
     "execution_count": 49,
     "metadata": {},
     "output_type": "execute_result"
    }
   ],
   "source": [
    "data.replace('Unspecified',np.nan,inplace=True)\n",
    "data.sort_values(\"City\", axis = 0, ascending = True, inplace = True, na_position ='last')\n",
    "data.head()"
   ]
  },
  {
   "cell_type": "code",
   "execution_count": 50,
   "metadata": {},
   "outputs": [
    {
     "data": {
      "text/html": [
       "<div>\n",
       "<style scoped>\n",
       "    .dataframe tbody tr th:only-of-type {\n",
       "        vertical-align: middle;\n",
       "    }\n",
       "\n",
       "    .dataframe tbody tr th {\n",
       "        vertical-align: top;\n",
       "    }\n",
       "\n",
       "    .dataframe thead th {\n",
       "        text-align: right;\n",
       "    }\n",
       "</style>\n",
       "<table border=\"1\" class=\"dataframe\">\n",
       "  <thead>\n",
       "    <tr style=\"text-align: right;\">\n",
       "      <th></th>\n",
       "      <th>Unique Key</th>\n",
       "      <th>Incident Zip</th>\n",
       "      <th>X Coordinate (State Plane)</th>\n",
       "      <th>Y Coordinate (State Plane)</th>\n",
       "      <th>Latitude</th>\n",
       "      <th>Longitude</th>\n",
       "      <th>Request_Closing_Time</th>\n",
       "    </tr>\n",
       "  </thead>\n",
       "  <tbody>\n",
       "    <tr>\n",
       "      <th>count</th>\n",
       "      <td>3.006980e+05</td>\n",
       "      <td>298083.000000</td>\n",
       "      <td>2.971580e+05</td>\n",
       "      <td>297158.000000</td>\n",
       "      <td>297158.000000</td>\n",
       "      <td>297158.000000</td>\n",
       "      <td>298534</td>\n",
       "    </tr>\n",
       "    <tr>\n",
       "      <th>mean</th>\n",
       "      <td>3.130054e+07</td>\n",
       "      <td>10848.888645</td>\n",
       "      <td>1.004854e+06</td>\n",
       "      <td>203754.534416</td>\n",
       "      <td>40.725885</td>\n",
       "      <td>-73.925630</td>\n",
       "      <td>0 days 04:18:51.832782</td>\n",
       "    </tr>\n",
       "    <tr>\n",
       "      <th>std</th>\n",
       "      <td>5.738547e+05</td>\n",
       "      <td>583.182081</td>\n",
       "      <td>2.175338e+04</td>\n",
       "      <td>29880.183529</td>\n",
       "      <td>0.082012</td>\n",
       "      <td>0.078454</td>\n",
       "      <td>0 days 06:05:22.141833</td>\n",
       "    </tr>\n",
       "    <tr>\n",
       "      <th>min</th>\n",
       "      <td>3.027948e+07</td>\n",
       "      <td>83.000000</td>\n",
       "      <td>9.133570e+05</td>\n",
       "      <td>121219.000000</td>\n",
       "      <td>40.499135</td>\n",
       "      <td>-74.254937</td>\n",
       "      <td>0 days 00:01:00</td>\n",
       "    </tr>\n",
       "    <tr>\n",
       "      <th>25%</th>\n",
       "      <td>3.080118e+07</td>\n",
       "      <td>10310.000000</td>\n",
       "      <td>9.919752e+05</td>\n",
       "      <td>183343.000000</td>\n",
       "      <td>40.669796</td>\n",
       "      <td>-73.972142</td>\n",
       "      <td>0 days 01:16:33</td>\n",
       "    </tr>\n",
       "    <tr>\n",
       "      <th>50%</th>\n",
       "      <td>3.130436e+07</td>\n",
       "      <td>11208.000000</td>\n",
       "      <td>1.003158e+06</td>\n",
       "      <td>201110.500000</td>\n",
       "      <td>40.718661</td>\n",
       "      <td>-73.931781</td>\n",
       "      <td>0 days 02:42:55.500000</td>\n",
       "    </tr>\n",
       "    <tr>\n",
       "      <th>75%</th>\n",
       "      <td>3.178446e+07</td>\n",
       "      <td>11238.000000</td>\n",
       "      <td>1.018372e+06</td>\n",
       "      <td>224125.250000</td>\n",
       "      <td>40.781840</td>\n",
       "      <td>-73.876805</td>\n",
       "      <td>0 days 05:21:00</td>\n",
       "    </tr>\n",
       "    <tr>\n",
       "      <th>max</th>\n",
       "      <td>3.231065e+07</td>\n",
       "      <td>11697.000000</td>\n",
       "      <td>1.067173e+06</td>\n",
       "      <td>271876.000000</td>\n",
       "      <td>40.912869</td>\n",
       "      <td>-73.700760</td>\n",
       "      <td>24 days 16:52:22</td>\n",
       "    </tr>\n",
       "  </tbody>\n",
       "</table>\n",
       "</div>"
      ],
      "text/plain": [
       "         Unique Key   Incident Zip  X Coordinate (State Plane)  \\\n",
       "count  3.006980e+05  298083.000000                2.971580e+05   \n",
       "mean   3.130054e+07   10848.888645                1.004854e+06   \n",
       "std    5.738547e+05     583.182081                2.175338e+04   \n",
       "min    3.027948e+07      83.000000                9.133570e+05   \n",
       "25%    3.080118e+07   10310.000000                9.919752e+05   \n",
       "50%    3.130436e+07   11208.000000                1.003158e+06   \n",
       "75%    3.178446e+07   11238.000000                1.018372e+06   \n",
       "max    3.231065e+07   11697.000000                1.067173e+06   \n",
       "\n",
       "       Y Coordinate (State Plane)       Latitude      Longitude  \\\n",
       "count               297158.000000  297158.000000  297158.000000   \n",
       "mean                203754.534416      40.725885     -73.925630   \n",
       "std                  29880.183529       0.082012       0.078454   \n",
       "min                 121219.000000      40.499135     -74.254937   \n",
       "25%                 183343.000000      40.669796     -73.972142   \n",
       "50%                 201110.500000      40.718661     -73.931781   \n",
       "75%                 224125.250000      40.781840     -73.876805   \n",
       "max                 271876.000000      40.912869     -73.700760   \n",
       "\n",
       "         Request_Closing_Time  \n",
       "count                  298534  \n",
       "mean   0 days 04:18:51.832782  \n",
       "std    0 days 06:05:22.141833  \n",
       "min           0 days 00:01:00  \n",
       "25%           0 days 01:16:33  \n",
       "50%    0 days 02:42:55.500000  \n",
       "75%           0 days 05:21:00  \n",
       "max          24 days 16:52:22  "
      ]
     },
     "execution_count": 50,
     "metadata": {},
     "output_type": "execute_result"
    }
   ],
   "source": [
    "data.describe()"
   ]
  },
  {
   "cell_type": "code",
   "execution_count": 51,
   "metadata": {},
   "outputs": [
    {
     "data": {
      "text/plain": [
       "(300698, 30)"
      ]
     },
     "execution_count": 51,
     "metadata": {},
     "output_type": "execute_result"
    }
   ],
   "source": [
    "#Number of columns and rows\n",
    "data.shape"
   ]
  },
  {
   "cell_type": "code",
   "execution_count": 52,
   "metadata": {},
   "outputs": [
    {
     "data": {
      "text/plain": [
       "Unique Key                            0\n",
       "Created Date                          0\n",
       "Closed Date                        2164\n",
       "Agency                                0\n",
       "Agency Name                           0\n",
       "Complaint Type                        0\n",
       "Descriptor                         5914\n",
       "Location Type                       131\n",
       "Incident Zip                       2615\n",
       "Incident Address                  44410\n",
       "Street Name                       44410\n",
       "Cross Street 1                    49279\n",
       "Cross Street 2                    49779\n",
       "Address Type                       2815\n",
       "City                               2614\n",
       "Facility Type                      2171\n",
       "Status                                0\n",
       "Due Date                              3\n",
       "Resolution Description                0\n",
       "Resolution Action Updated Date     2187\n",
       "Community Board                       0\n",
       "Borough                            2574\n",
       "X Coordinate (State Plane)         3540\n",
       "Y Coordinate (State Plane)         3540\n",
       "Park Borough                       2574\n",
       "School Not Found                      0\n",
       "Latitude                           3540\n",
       "Longitude                          3540\n",
       "Location                           3540\n",
       "Request_Closing_Time               2164\n",
       "dtype: int64"
      ]
     },
     "execution_count": 52,
     "metadata": {},
     "output_type": "execute_result"
    }
   ],
   "source": [
    "#aggregating nan values\n",
    "columns_with_nan_values=data.isnull().sum()\n",
    "columns_with_nan_values"
   ]
  },
  {
   "cell_type": "code",
   "execution_count": 60,
   "metadata": {},
   "outputs": [],
   "source": [
    "# Removing Some Coloums that have more than 50% missing data And Unnecessary column'''\n",
    "size = 300698\n",
    "remove = []\n",
    "for key,value in columns_with_nan_values.items():\n",
    "    Proper_data = value/size\n",
    "    if (Proper_data) > 0.5:\n",
    "        remove.append(key)\n",
    "data.drop(labels = remove, axis =1,inplace =True)"
   ]
  },
  {
   "cell_type": "code",
   "execution_count": 61,
   "metadata": {},
   "outputs": [
    {
     "data": {
      "text/plain": [
       "Unique Key                            0\n",
       "Created Date                          0\n",
       "Closed Date                        2164\n",
       "Agency                                0\n",
       "Agency Name                           0\n",
       "Complaint Type                        0\n",
       "Descriptor                         5914\n",
       "Location Type                       131\n",
       "Incident Zip                       2615\n",
       "Incident Address                  44410\n",
       "Street Name                       44410\n",
       "Cross Street 1                    49279\n",
       "Cross Street 2                    49779\n",
       "Address Type                       2815\n",
       "City                               2614\n",
       "Facility Type                      2171\n",
       "Status                                0\n",
       "Due Date                              3\n",
       "Resolution Description                0\n",
       "Resolution Action Updated Date     2187\n",
       "Community Board                       0\n",
       "Borough                            2574\n",
       "X Coordinate (State Plane)         3540\n",
       "Y Coordinate (State Plane)         3540\n",
       "Park Borough                       2574\n",
       "School Not Found                      0\n",
       "Latitude                           3540\n",
       "Longitude                          3540\n",
       "Location                           3540\n",
       "Request_Closing_Time               2164\n",
       "dtype: int64"
      ]
     },
     "execution_count": 61,
     "metadata": {},
     "output_type": "execute_result"
    }
   ],
   "source": [
    "#aggregating nan values\n",
    "columns_with_nan_values=data.isnull().sum()\n",
    "columns_with_nan_values"
   ]
  },
  {
   "cell_type": "code",
   "execution_count": 62,
   "metadata": {},
   "outputs": [
    {
     "data": {
      "text/plain": [
       "(300698, 30)"
      ]
     },
     "execution_count": 62,
     "metadata": {},
     "output_type": "execute_result"
    }
   ],
   "source": [
    "#Previously we had 53 columns, after cleaning the data 29 lefts only.\n",
    "data.shape"
   ]
  },
  {
   "cell_type": "code",
   "execution_count": null,
   "metadata": {},
   "outputs": [],
   "source": [
    "# 2. To create a new column ‘Request_Closing_Time’"
   ]
  },
  {
   "cell_type": "code",
   "execution_count": 63,
   "metadata": {},
   "outputs": [
    {
     "data": {
      "text/html": [
       "<div>\n",
       "<style scoped>\n",
       "    .dataframe tbody tr th:only-of-type {\n",
       "        vertical-align: middle;\n",
       "    }\n",
       "\n",
       "    .dataframe tbody tr th {\n",
       "        vertical-align: top;\n",
       "    }\n",
       "\n",
       "    .dataframe thead th {\n",
       "        text-align: right;\n",
       "    }\n",
       "</style>\n",
       "<table border=\"1\" class=\"dataframe\">\n",
       "  <thead>\n",
       "    <tr style=\"text-align: right;\">\n",
       "      <th></th>\n",
       "      <th>Unique Key</th>\n",
       "      <th>Created Date</th>\n",
       "      <th>Closed Date</th>\n",
       "      <th>Agency</th>\n",
       "      <th>Agency Name</th>\n",
       "      <th>Complaint Type</th>\n",
       "      <th>Descriptor</th>\n",
       "      <th>Location Type</th>\n",
       "      <th>Incident Zip</th>\n",
       "      <th>Incident Address</th>\n",
       "      <th>...</th>\n",
       "      <th>Community Board</th>\n",
       "      <th>Borough</th>\n",
       "      <th>X Coordinate (State Plane)</th>\n",
       "      <th>Y Coordinate (State Plane)</th>\n",
       "      <th>Park Borough</th>\n",
       "      <th>School Not Found</th>\n",
       "      <th>Latitude</th>\n",
       "      <th>Longitude</th>\n",
       "      <th>Location</th>\n",
       "      <th>Request_Closing_Time</th>\n",
       "    </tr>\n",
       "  </thead>\n",
       "  <tbody>\n",
       "    <tr>\n",
       "      <th>188102</th>\n",
       "      <td>31043792</td>\n",
       "      <td>2015-07-11 00:25:00</td>\n",
       "      <td>2015-07-11 01:39:00</td>\n",
       "      <td>NYPD</td>\n",
       "      <td>New York City Police Department</td>\n",
       "      <td>Illegal Parking</td>\n",
       "      <td>Commercial Overnight Parking</td>\n",
       "      <td>Street/Sidewalk</td>\n",
       "      <td>11692.0</td>\n",
       "      <td>105 BEACH 61 STREET</td>\n",
       "      <td>...</td>\n",
       "      <td>14 QUEENS</td>\n",
       "      <td>QUEENS</td>\n",
       "      <td>1042488.0</td>\n",
       "      <td>154292.0</td>\n",
       "      <td>QUEENS</td>\n",
       "      <td>N</td>\n",
       "      <td>40.589981</td>\n",
       "      <td>-73.790313</td>\n",
       "      <td>(40.58998074407277, -73.79031328313127)</td>\n",
       "      <td>01:14:00</td>\n",
       "    </tr>\n",
       "    <tr>\n",
       "      <th>185064</th>\n",
       "      <td>31064547</td>\n",
       "      <td>2015-07-13 10:26:32</td>\n",
       "      <td>2015-07-13 11:35:05</td>\n",
       "      <td>NYPD</td>\n",
       "      <td>New York City Police Department</td>\n",
       "      <td>Blocked Driveway</td>\n",
       "      <td>No Access</td>\n",
       "      <td>Street/Sidewalk</td>\n",
       "      <td>11692.0</td>\n",
       "      <td>166 BEACH 60 STREET</td>\n",
       "      <td>...</td>\n",
       "      <td>14 QUEENS</td>\n",
       "      <td>QUEENS</td>\n",
       "      <td>1042700.0</td>\n",
       "      <td>154724.0</td>\n",
       "      <td>QUEENS</td>\n",
       "      <td>N</td>\n",
       "      <td>40.591165</td>\n",
       "      <td>-73.789546</td>\n",
       "      <td>(40.59116509873905, -73.78954624023964)</td>\n",
       "      <td>01:08:33</td>\n",
       "    </tr>\n",
       "    <tr>\n",
       "      <th>190308</th>\n",
       "      <td>31032847</td>\n",
       "      <td>2015-07-09 00:06:00</td>\n",
       "      <td>2015-07-09 01:27:00</td>\n",
       "      <td>NYPD</td>\n",
       "      <td>New York City Police Department</td>\n",
       "      <td>Illegal Parking</td>\n",
       "      <td>Blocked Hydrant</td>\n",
       "      <td>Street/Sidewalk</td>\n",
       "      <td>11692.0</td>\n",
       "      <td>246 BEACH 77 STREET</td>\n",
       "      <td>...</td>\n",
       "      <td>14 QUEENS</td>\n",
       "      <td>QUEENS</td>\n",
       "      <td>1038538.0</td>\n",
       "      <td>154159.0</td>\n",
       "      <td>QUEENS</td>\n",
       "      <td>N</td>\n",
       "      <td>40.589641</td>\n",
       "      <td>-73.804536</td>\n",
       "      <td>(40.58964075946563, -73.80453633186117)</td>\n",
       "      <td>01:21:00</td>\n",
       "    </tr>\n",
       "    <tr>\n",
       "      <th>215223</th>\n",
       "      <td>30873908</td>\n",
       "      <td>2015-06-17 21:30:55</td>\n",
       "      <td>2015-06-17 23:51:35</td>\n",
       "      <td>NYPD</td>\n",
       "      <td>New York City Police Department</td>\n",
       "      <td>Noise - House of Worship</td>\n",
       "      <td>Loud Music/Party</td>\n",
       "      <td>House of Worship</td>\n",
       "      <td>11692.0</td>\n",
       "      <td>74-05 ROCKAWAY BEACH BOULEVARD</td>\n",
       "      <td>...</td>\n",
       "      <td>14 QUEENS</td>\n",
       "      <td>QUEENS</td>\n",
       "      <td>1039209.0</td>\n",
       "      <td>153863.0</td>\n",
       "      <td>QUEENS</td>\n",
       "      <td>N</td>\n",
       "      <td>40.588824</td>\n",
       "      <td>-73.802123</td>\n",
       "      <td>(40.588824165589685, -73.80212281539637)</td>\n",
       "      <td>02:20:40</td>\n",
       "    </tr>\n",
       "    <tr>\n",
       "      <th>249811</th>\n",
       "      <td>30648522</td>\n",
       "      <td>2015-05-18 21:31:19</td>\n",
       "      <td>2015-05-18 23:43:53</td>\n",
       "      <td>NYPD</td>\n",
       "      <td>New York City Police Department</td>\n",
       "      <td>Noise - House of Worship</td>\n",
       "      <td>Loud Music/Party</td>\n",
       "      <td>House of Worship</td>\n",
       "      <td>11692.0</td>\n",
       "      <td>74-05 ROCKAWAY BEACH BOULEVARD</td>\n",
       "      <td>...</td>\n",
       "      <td>14 QUEENS</td>\n",
       "      <td>QUEENS</td>\n",
       "      <td>1039209.0</td>\n",
       "      <td>153863.0</td>\n",
       "      <td>QUEENS</td>\n",
       "      <td>N</td>\n",
       "      <td>40.588824</td>\n",
       "      <td>-73.802123</td>\n",
       "      <td>(40.588824165589685, -73.80212281539637)</td>\n",
       "      <td>02:12:34</td>\n",
       "    </tr>\n",
       "  </tbody>\n",
       "</table>\n",
       "<p>5 rows × 30 columns</p>\n",
       "</div>"
      ],
      "text/plain": [
       "        Unique Key        Created Date         Closed Date Agency  \\\n",
       "188102    31043792 2015-07-11 00:25:00 2015-07-11 01:39:00   NYPD   \n",
       "185064    31064547 2015-07-13 10:26:32 2015-07-13 11:35:05   NYPD   \n",
       "190308    31032847 2015-07-09 00:06:00 2015-07-09 01:27:00   NYPD   \n",
       "215223    30873908 2015-06-17 21:30:55 2015-06-17 23:51:35   NYPD   \n",
       "249811    30648522 2015-05-18 21:31:19 2015-05-18 23:43:53   NYPD   \n",
       "\n",
       "                            Agency Name            Complaint Type  \\\n",
       "188102  New York City Police Department           Illegal Parking   \n",
       "185064  New York City Police Department          Blocked Driveway   \n",
       "190308  New York City Police Department           Illegal Parking   \n",
       "215223  New York City Police Department  Noise - House of Worship   \n",
       "249811  New York City Police Department  Noise - House of Worship   \n",
       "\n",
       "                          Descriptor     Location Type  Incident Zip  \\\n",
       "188102  Commercial Overnight Parking   Street/Sidewalk       11692.0   \n",
       "185064                     No Access   Street/Sidewalk       11692.0   \n",
       "190308               Blocked Hydrant   Street/Sidewalk       11692.0   \n",
       "215223              Loud Music/Party  House of Worship       11692.0   \n",
       "249811              Loud Music/Party  House of Worship       11692.0   \n",
       "\n",
       "                      Incident Address  ... Community Board Borough  \\\n",
       "188102             105 BEACH 61 STREET  ...       14 QUEENS  QUEENS   \n",
       "185064             166 BEACH 60 STREET  ...       14 QUEENS  QUEENS   \n",
       "190308             246 BEACH 77 STREET  ...       14 QUEENS  QUEENS   \n",
       "215223  74-05 ROCKAWAY BEACH BOULEVARD  ...       14 QUEENS  QUEENS   \n",
       "249811  74-05 ROCKAWAY BEACH BOULEVARD  ...       14 QUEENS  QUEENS   \n",
       "\n",
       "       X Coordinate (State Plane) Y Coordinate (State Plane) Park Borough  \\\n",
       "188102                  1042488.0                   154292.0       QUEENS   \n",
       "185064                  1042700.0                   154724.0       QUEENS   \n",
       "190308                  1038538.0                   154159.0       QUEENS   \n",
       "215223                  1039209.0                   153863.0       QUEENS   \n",
       "249811                  1039209.0                   153863.0       QUEENS   \n",
       "\n",
       "       School Not Found   Latitude  Longitude  \\\n",
       "188102                N  40.589981 -73.790313   \n",
       "185064                N  40.591165 -73.789546   \n",
       "190308                N  40.589641 -73.804536   \n",
       "215223                N  40.588824 -73.802123   \n",
       "249811                N  40.588824 -73.802123   \n",
       "\n",
       "                                        Location Request_Closing_Time  \n",
       "188102   (40.58998074407277, -73.79031328313127)             01:14:00  \n",
       "185064   (40.59116509873905, -73.78954624023964)             01:08:33  \n",
       "190308   (40.58964075946563, -73.80453633186117)             01:21:00  \n",
       "215223  (40.588824165589685, -73.80212281539637)             02:20:40  \n",
       "249811  (40.588824165589685, -73.80212281539637)             02:12:34  \n",
       "\n",
       "[5 rows x 30 columns]"
      ]
     },
     "execution_count": 63,
     "metadata": {},
     "output_type": "execute_result"
    }
   ],
   "source": [
    "data[\"Request_Closing_Time\"] = data[\"Closed Date\"] - data[\"Created Date\"]\n",
    "data.head()"
   ]
  },
  {
   "cell_type": "code",
   "execution_count": 64,
   "metadata": {},
   "outputs": [
    {
     "data": {
      "text/plain": [
       "2164"
      ]
     },
     "execution_count": 64,
     "metadata": {},
     "output_type": "execute_result"
    }
   ],
   "source": [
    "# Total number of Request closing time with missing  value\n",
    "data[\"Request_Closing_Time\"].isnull().sum()"
   ]
  },
  {
   "cell_type": "code",
   "execution_count": 65,
   "metadata": {},
   "outputs": [
    {
     "data": {
      "text/plain": [
       "188102   01:14:00\n",
       "185064   01:08:33\n",
       "190308   01:21:00\n",
       "215223   02:20:40\n",
       "249811   02:12:34\n",
       "           ...   \n",
       "297267   02:49:00\n",
       "299144   11:53:57\n",
       "299158   11:45:31\n",
       "299461   00:40:30\n",
       "299765   11:45:17\n",
       "Name: Request_Closing_Time, Length: 298534, dtype: timedelta64[ns]"
      ]
     },
     "execution_count": 65,
     "metadata": {},
     "output_type": "execute_result"
    }
   ],
   "source": [
    "#Drop all rows with any NaN and NaT values\n",
    "data['Request_Closing_Time'].dropna()"
   ]
  },
  {
   "cell_type": "code",
   "execution_count": 66,
   "metadata": {},
   "outputs": [
    {
     "data": {
      "text/html": [
       "<div>\n",
       "<style scoped>\n",
       "    .dataframe tbody tr th:only-of-type {\n",
       "        vertical-align: middle;\n",
       "    }\n",
       "\n",
       "    .dataframe tbody tr th {\n",
       "        vertical-align: top;\n",
       "    }\n",
       "\n",
       "    .dataframe thead th {\n",
       "        text-align: right;\n",
       "    }\n",
       "</style>\n",
       "<table border=\"1\" class=\"dataframe\">\n",
       "  <thead>\n",
       "    <tr style=\"text-align: right;\">\n",
       "      <th></th>\n",
       "      <th>Unique Key</th>\n",
       "      <th>Created Date</th>\n",
       "      <th>Closed Date</th>\n",
       "      <th>Agency</th>\n",
       "      <th>Agency Name</th>\n",
       "      <th>Complaint Type</th>\n",
       "      <th>Descriptor</th>\n",
       "      <th>Location Type</th>\n",
       "      <th>Incident Zip</th>\n",
       "      <th>Incident Address</th>\n",
       "      <th>...</th>\n",
       "      <th>Community Board</th>\n",
       "      <th>Borough</th>\n",
       "      <th>X Coordinate (State Plane)</th>\n",
       "      <th>Y Coordinate (State Plane)</th>\n",
       "      <th>Park Borough</th>\n",
       "      <th>School Not Found</th>\n",
       "      <th>Latitude</th>\n",
       "      <th>Longitude</th>\n",
       "      <th>Location</th>\n",
       "      <th>Request_Closing_Time</th>\n",
       "    </tr>\n",
       "  </thead>\n",
       "  <tbody>\n",
       "    <tr>\n",
       "      <th>61125</th>\n",
       "      <td>31882332</td>\n",
       "      <td>2015-11-01 01:41:00</td>\n",
       "      <td>2015-11-01 01:42:00</td>\n",
       "      <td>NYPD</td>\n",
       "      <td>New York City Police Department</td>\n",
       "      <td>Noise - Commercial</td>\n",
       "      <td>Loud Music/Party</td>\n",
       "      <td>Club/Bar/Restaurant</td>\n",
       "      <td>10003.0</td>\n",
       "      <td>78 EAST 4 STREET</td>\n",
       "      <td>...</td>\n",
       "      <td>03 MANHATTAN</td>\n",
       "      <td>MANHATTAN</td>\n",
       "      <td>987021.0</td>\n",
       "      <td>203932.0</td>\n",
       "      <td>MANHATTAN</td>\n",
       "      <td>N</td>\n",
       "      <td>40.726422</td>\n",
       "      <td>-73.990003</td>\n",
       "      <td>(40.726422494913116, -73.9900025591503)</td>\n",
       "      <td>00:01:00</td>\n",
       "    </tr>\n",
       "    <tr>\n",
       "      <th>163683</th>\n",
       "      <td>31212389</td>\n",
       "      <td>2015-08-01 14:33:00</td>\n",
       "      <td>2015-08-01 14:35:00</td>\n",
       "      <td>NYPD</td>\n",
       "      <td>New York City Police Department</td>\n",
       "      <td>Noise - Commercial</td>\n",
       "      <td>Loud Music/Party</td>\n",
       "      <td>Store/Commercial</td>\n",
       "      <td>11206.0</td>\n",
       "      <td>88 MOORE STREET</td>\n",
       "      <td>...</td>\n",
       "      <td>01 BROOKLYN</td>\n",
       "      <td>BROOKLYN</td>\n",
       "      <td>1000345.0</td>\n",
       "      <td>195700.0</td>\n",
       "      <td>BROOKLYN</td>\n",
       "      <td>N</td>\n",
       "      <td>40.703813</td>\n",
       "      <td>-73.941951</td>\n",
       "      <td>(40.703813419626954, -73.94195083019125)</td>\n",
       "      <td>00:02:00</td>\n",
       "    </tr>\n",
       "    <tr>\n",
       "      <th>60357</th>\n",
       "      <td>31890750</td>\n",
       "      <td>2015-11-01 20:16:00</td>\n",
       "      <td>2015-11-01 20:18:00</td>\n",
       "      <td>NYPD</td>\n",
       "      <td>New York City Police Department</td>\n",
       "      <td>Posting Advertisement</td>\n",
       "      <td>Vehicle</td>\n",
       "      <td>Street/Sidewalk</td>\n",
       "      <td>10312.0</td>\n",
       "      <td>177 LAREDO AVENUE</td>\n",
       "      <td>...</td>\n",
       "      <td>03 STATEN ISLAND</td>\n",
       "      <td>STATEN ISLAND</td>\n",
       "      <td>935996.0</td>\n",
       "      <td>139374.0</td>\n",
       "      <td>STATEN ISLAND</td>\n",
       "      <td>N</td>\n",
       "      <td>40.549094</td>\n",
       "      <td>-74.173633</td>\n",
       "      <td>(40.549093797686275, -74.17363282481907)</td>\n",
       "      <td>00:02:00</td>\n",
       "    </tr>\n",
       "    <tr>\n",
       "      <th>222119</th>\n",
       "      <td>30823148</td>\n",
       "      <td>2015-06-11 20:39:00</td>\n",
       "      <td>2015-06-11 20:41:00</td>\n",
       "      <td>NYPD</td>\n",
       "      <td>New York City Police Department</td>\n",
       "      <td>Noise - Street/Sidewalk</td>\n",
       "      <td>Loud Music/Party</td>\n",
       "      <td>Street/Sidewalk</td>\n",
       "      <td>10310.0</td>\n",
       "      <td>169 MYRTLE AVENUE</td>\n",
       "      <td>...</td>\n",
       "      <td>01 STATEN ISLAND</td>\n",
       "      <td>STATEN ISLAND</td>\n",
       "      <td>951700.0</td>\n",
       "      <td>168742.0</td>\n",
       "      <td>STATEN ISLAND</td>\n",
       "      <td>N</td>\n",
       "      <td>40.629775</td>\n",
       "      <td>-74.117267</td>\n",
       "      <td>(40.62977454750427, -74.11726652408944)</td>\n",
       "      <td>00:02:00</td>\n",
       "    </tr>\n",
       "    <tr>\n",
       "      <th>260083</th>\n",
       "      <td>30581172</td>\n",
       "      <td>2015-05-10 01:33:00</td>\n",
       "      <td>2015-05-10 01:35:00</td>\n",
       "      <td>NYPD</td>\n",
       "      <td>New York City Police Department</td>\n",
       "      <td>Noise - Commercial</td>\n",
       "      <td>Loud Music/Party</td>\n",
       "      <td>Store/Commercial</td>\n",
       "      <td>10003.0</td>\n",
       "      <td>100 3 AVENUE</td>\n",
       "      <td>...</td>\n",
       "      <td>03 MANHATTAN</td>\n",
       "      <td>MANHATTAN</td>\n",
       "      <td>987619.0</td>\n",
       "      <td>206110.0</td>\n",
       "      <td>MANHATTAN</td>\n",
       "      <td>N</td>\n",
       "      <td>40.732400</td>\n",
       "      <td>-73.987844</td>\n",
       "      <td>(40.73240036503256, -73.9878439553108)</td>\n",
       "      <td>00:02:00</td>\n",
       "    </tr>\n",
       "    <tr>\n",
       "      <th>...</th>\n",
       "      <td>...</td>\n",
       "      <td>...</td>\n",
       "      <td>...</td>\n",
       "      <td>...</td>\n",
       "      <td>...</td>\n",
       "      <td>...</td>\n",
       "      <td>...</td>\n",
       "      <td>...</td>\n",
       "      <td>...</td>\n",
       "      <td>...</td>\n",
       "      <td>...</td>\n",
       "      <td>...</td>\n",
       "      <td>...</td>\n",
       "      <td>...</td>\n",
       "      <td>...</td>\n",
       "      <td>...</td>\n",
       "      <td>...</td>\n",
       "      <td>...</td>\n",
       "      <td>...</td>\n",
       "      <td>...</td>\n",
       "      <td>...</td>\n",
       "    </tr>\n",
       "    <tr>\n",
       "      <th>300273</th>\n",
       "      <td>30287350</td>\n",
       "      <td>2015-03-29 14:40:19</td>\n",
       "      <td>NaT</td>\n",
       "      <td>NYPD</td>\n",
       "      <td>New York City Police Department</td>\n",
       "      <td>Blocked Driveway</td>\n",
       "      <td>No Access</td>\n",
       "      <td>Street/Sidewalk</td>\n",
       "      <td>NaN</td>\n",
       "      <td>3801-3999 23RD AVE</td>\n",
       "      <td>...</td>\n",
       "      <td>0 Unspecified</td>\n",
       "      <td>NaN</td>\n",
       "      <td>NaN</td>\n",
       "      <td>NaN</td>\n",
       "      <td>NaN</td>\n",
       "      <td>N</td>\n",
       "      <td>NaN</td>\n",
       "      <td>NaN</td>\n",
       "      <td>NaN</td>\n",
       "      <td>NaT</td>\n",
       "    </tr>\n",
       "    <tr>\n",
       "      <th>300492</th>\n",
       "      <td>30284963</td>\n",
       "      <td>2015-03-29 08:50:15</td>\n",
       "      <td>NaT</td>\n",
       "      <td>NYPD</td>\n",
       "      <td>New York City Police Department</td>\n",
       "      <td>Vending</td>\n",
       "      <td>Unlicensed</td>\n",
       "      <td>Street/Sidewalk</td>\n",
       "      <td>NaN</td>\n",
       "      <td>COOPER AVE</td>\n",
       "      <td>...</td>\n",
       "      <td>0 Unspecified</td>\n",
       "      <td>NaN</td>\n",
       "      <td>NaN</td>\n",
       "      <td>NaN</td>\n",
       "      <td>NaN</td>\n",
       "      <td>N</td>\n",
       "      <td>NaN</td>\n",
       "      <td>NaN</td>\n",
       "      <td>NaN</td>\n",
       "      <td>NaT</td>\n",
       "    </tr>\n",
       "    <tr>\n",
       "      <th>300496</th>\n",
       "      <td>30285492</td>\n",
       "      <td>2015-03-29 08:44:13</td>\n",
       "      <td>NaT</td>\n",
       "      <td>NYPD</td>\n",
       "      <td>New York City Police Department</td>\n",
       "      <td>Vending</td>\n",
       "      <td>Unlicensed</td>\n",
       "      <td>Street/Sidewalk</td>\n",
       "      <td>NaN</td>\n",
       "      <td>80 STREET</td>\n",
       "      <td>...</td>\n",
       "      <td>0 Unspecified</td>\n",
       "      <td>NaN</td>\n",
       "      <td>NaN</td>\n",
       "      <td>NaN</td>\n",
       "      <td>NaN</td>\n",
       "      <td>N</td>\n",
       "      <td>NaN</td>\n",
       "      <td>NaN</td>\n",
       "      <td>NaN</td>\n",
       "      <td>NaT</td>\n",
       "    </tr>\n",
       "    <tr>\n",
       "      <th>300620</th>\n",
       "      <td>30282717</td>\n",
       "      <td>2015-03-29 01:55:35</td>\n",
       "      <td>NaT</td>\n",
       "      <td>NYPD</td>\n",
       "      <td>New York City Police Department</td>\n",
       "      <td>Noise - Commercial</td>\n",
       "      <td>Loud Music/Party</td>\n",
       "      <td>Club/Bar/Restaurant</td>\n",
       "      <td>NaN</td>\n",
       "      <td>CRESCENT AVENUE</td>\n",
       "      <td>...</td>\n",
       "      <td>0 Unspecified</td>\n",
       "      <td>NaN</td>\n",
       "      <td>NaN</td>\n",
       "      <td>NaN</td>\n",
       "      <td>NaN</td>\n",
       "      <td>N</td>\n",
       "      <td>NaN</td>\n",
       "      <td>NaN</td>\n",
       "      <td>NaN</td>\n",
       "      <td>NaT</td>\n",
       "    </tr>\n",
       "    <tr>\n",
       "      <th>300693</th>\n",
       "      <td>30281872</td>\n",
       "      <td>2015-03-29 00:33:41</td>\n",
       "      <td>NaT</td>\n",
       "      <td>NYPD</td>\n",
       "      <td>New York City Police Department</td>\n",
       "      <td>Noise - Commercial</td>\n",
       "      <td>Loud Music/Party</td>\n",
       "      <td>Club/Bar/Restaurant</td>\n",
       "      <td>NaN</td>\n",
       "      <td>CRESCENT AVENUE</td>\n",
       "      <td>...</td>\n",
       "      <td>0 Unspecified</td>\n",
       "      <td>NaN</td>\n",
       "      <td>NaN</td>\n",
       "      <td>NaN</td>\n",
       "      <td>NaN</td>\n",
       "      <td>N</td>\n",
       "      <td>NaN</td>\n",
       "      <td>NaN</td>\n",
       "      <td>NaN</td>\n",
       "      <td>NaT</td>\n",
       "    </tr>\n",
       "  </tbody>\n",
       "</table>\n",
       "<p>300698 rows × 30 columns</p>\n",
       "</div>"
      ],
      "text/plain": [
       "        Unique Key        Created Date         Closed Date Agency  \\\n",
       "61125     31882332 2015-11-01 01:41:00 2015-11-01 01:42:00   NYPD   \n",
       "163683    31212389 2015-08-01 14:33:00 2015-08-01 14:35:00   NYPD   \n",
       "60357     31890750 2015-11-01 20:16:00 2015-11-01 20:18:00   NYPD   \n",
       "222119    30823148 2015-06-11 20:39:00 2015-06-11 20:41:00   NYPD   \n",
       "260083    30581172 2015-05-10 01:33:00 2015-05-10 01:35:00   NYPD   \n",
       "...            ...                 ...                 ...    ...   \n",
       "300273    30287350 2015-03-29 14:40:19                 NaT   NYPD   \n",
       "300492    30284963 2015-03-29 08:50:15                 NaT   NYPD   \n",
       "300496    30285492 2015-03-29 08:44:13                 NaT   NYPD   \n",
       "300620    30282717 2015-03-29 01:55:35                 NaT   NYPD   \n",
       "300693    30281872 2015-03-29 00:33:41                 NaT   NYPD   \n",
       "\n",
       "                            Agency Name           Complaint Type  \\\n",
       "61125   New York City Police Department       Noise - Commercial   \n",
       "163683  New York City Police Department       Noise - Commercial   \n",
       "60357   New York City Police Department    Posting Advertisement   \n",
       "222119  New York City Police Department  Noise - Street/Sidewalk   \n",
       "260083  New York City Police Department       Noise - Commercial   \n",
       "...                                 ...                      ...   \n",
       "300273  New York City Police Department         Blocked Driveway   \n",
       "300492  New York City Police Department                  Vending   \n",
       "300496  New York City Police Department                  Vending   \n",
       "300620  New York City Police Department       Noise - Commercial   \n",
       "300693  New York City Police Department       Noise - Commercial   \n",
       "\n",
       "              Descriptor        Location Type  Incident Zip  \\\n",
       "61125   Loud Music/Party  Club/Bar/Restaurant       10003.0   \n",
       "163683  Loud Music/Party     Store/Commercial       11206.0   \n",
       "60357            Vehicle      Street/Sidewalk       10312.0   \n",
       "222119  Loud Music/Party      Street/Sidewalk       10310.0   \n",
       "260083  Loud Music/Party     Store/Commercial       10003.0   \n",
       "...                  ...                  ...           ...   \n",
       "300273         No Access      Street/Sidewalk           NaN   \n",
       "300492        Unlicensed      Street/Sidewalk           NaN   \n",
       "300496        Unlicensed      Street/Sidewalk           NaN   \n",
       "300620  Loud Music/Party  Club/Bar/Restaurant           NaN   \n",
       "300693  Loud Music/Party  Club/Bar/Restaurant           NaN   \n",
       "\n",
       "          Incident Address  ...   Community Board        Borough  \\\n",
       "61125     78 EAST 4 STREET  ...      03 MANHATTAN      MANHATTAN   \n",
       "163683     88 MOORE STREET  ...       01 BROOKLYN       BROOKLYN   \n",
       "60357    177 LAREDO AVENUE  ...  03 STATEN ISLAND  STATEN ISLAND   \n",
       "222119   169 MYRTLE AVENUE  ...  01 STATEN ISLAND  STATEN ISLAND   \n",
       "260083        100 3 AVENUE  ...      03 MANHATTAN      MANHATTAN   \n",
       "...                    ...  ...               ...            ...   \n",
       "300273  3801-3999 23RD AVE  ...     0 Unspecified            NaN   \n",
       "300492          COOPER AVE  ...     0 Unspecified            NaN   \n",
       "300496           80 STREET  ...     0 Unspecified            NaN   \n",
       "300620     CRESCENT AVENUE  ...     0 Unspecified            NaN   \n",
       "300693     CRESCENT AVENUE  ...     0 Unspecified            NaN   \n",
       "\n",
       "       X Coordinate (State Plane) Y Coordinate (State Plane)   Park Borough  \\\n",
       "61125                    987021.0                   203932.0      MANHATTAN   \n",
       "163683                  1000345.0                   195700.0       BROOKLYN   \n",
       "60357                    935996.0                   139374.0  STATEN ISLAND   \n",
       "222119                   951700.0                   168742.0  STATEN ISLAND   \n",
       "260083                   987619.0                   206110.0      MANHATTAN   \n",
       "...                           ...                        ...            ...   \n",
       "300273                        NaN                        NaN            NaN   \n",
       "300492                        NaN                        NaN            NaN   \n",
       "300496                        NaN                        NaN            NaN   \n",
       "300620                        NaN                        NaN            NaN   \n",
       "300693                        NaN                        NaN            NaN   \n",
       "\n",
       "       School Not Found   Latitude  Longitude  \\\n",
       "61125                 N  40.726422 -73.990003   \n",
       "163683                N  40.703813 -73.941951   \n",
       "60357                 N  40.549094 -74.173633   \n",
       "222119                N  40.629775 -74.117267   \n",
       "260083                N  40.732400 -73.987844   \n",
       "...                 ...        ...        ...   \n",
       "300273                N        NaN        NaN   \n",
       "300492                N        NaN        NaN   \n",
       "300496                N        NaN        NaN   \n",
       "300620                N        NaN        NaN   \n",
       "300693                N        NaN        NaN   \n",
       "\n",
       "                                        Location Request_Closing_Time  \n",
       "61125    (40.726422494913116, -73.9900025591503)             00:01:00  \n",
       "163683  (40.703813419626954, -73.94195083019125)             00:02:00  \n",
       "60357   (40.549093797686275, -74.17363282481907)             00:02:00  \n",
       "222119   (40.62977454750427, -74.11726652408944)             00:02:00  \n",
       "260083    (40.73240036503256, -73.9878439553108)             00:02:00  \n",
       "...                                          ...                  ...  \n",
       "300273                                       NaN                  NaT  \n",
       "300492                                       NaN                  NaT  \n",
       "300496                                       NaN                  NaT  \n",
       "300620                                       NaN                  NaT  \n",
       "300693                                       NaN                  NaT  \n",
       "\n",
       "[300698 rows x 30 columns]"
      ]
     },
     "execution_count": 66,
     "metadata": {},
     "output_type": "execute_result"
    }
   ],
   "source": [
    "data.sort_values(\"Request_Closing_Time\", axis = 0, ascending = True, inplace = True, na_position ='last')\n",
    "data"
   ]
  },
  {
   "cell_type": "code",
   "execution_count": 67,
   "metadata": {},
   "outputs": [
    {
     "data": {
      "text/plain": [
       "Unique Key                                  int64\n",
       "Created Date                       datetime64[ns]\n",
       "Closed Date                        datetime64[ns]\n",
       "Agency                                     object\n",
       "Agency Name                                object\n",
       "Complaint Type                             object\n",
       "Descriptor                                 object\n",
       "Location Type                              object\n",
       "Incident Zip                              float64\n",
       "Incident Address                           object\n",
       "Street Name                                object\n",
       "Cross Street 1                             object\n",
       "Cross Street 2                             object\n",
       "Address Type                               object\n",
       "City                                       object\n",
       "Facility Type                              object\n",
       "Status                                     object\n",
       "Due Date                                   object\n",
       "Resolution Description                     object\n",
       "Resolution Action Updated Date             object\n",
       "Community Board                            object\n",
       "Borough                                    object\n",
       "X Coordinate (State Plane)                float64\n",
       "Y Coordinate (State Plane)                float64\n",
       "Park Borough                               object\n",
       "School Not Found                           object\n",
       "Latitude                                  float64\n",
       "Longitude                                 float64\n",
       "Location                                   object\n",
       "Request_Closing_Time              timedelta64[ns]\n",
       "dtype: object"
      ]
     },
     "execution_count": 67,
     "metadata": {},
     "output_type": "execute_result"
    }
   ],
   "source": [
    "data.dtypes"
   ]
  },
  {
   "cell_type": "code",
   "execution_count": null,
   "metadata": {},
   "outputs": [],
   "source": [
    "# 3. Major insights"
   ]
  },
  {
   "cell_type": "code",
   "execution_count": 68,
   "metadata": {
    "scrolled": true
   },
   "outputs": [
    {
     "data": {
      "text/plain": [
       "<matplotlib.axes._subplots.AxesSubplot at 0x1ac82e99310>"
      ]
     },
     "execution_count": 68,
     "metadata": {},
     "output_type": "execute_result"
    },
    {
     "data": {
      "image/png": "[encoded data removed]",
      "text/plain": [
       "<Figure size 720x432 with 1 Axes>"
      ]
     },
     "metadata": {
      "needs_background": "light"
     },
     "output_type": "display_data"
    }
   ],
   "source": [
    "#Most frequent Complaints\n",
    "(data['Complaint Type'].value_counts()).head().plot(kind='bar',figsize=(10,6), title = 'Most common Complaints')"
   ]
  },
  {
   "cell_type": "code",
   "execution_count": 69,
   "metadata": {},
   "outputs": [
    {
     "data": {
      "text/plain": [
       "<matplotlib.axes._subplots.AxesSubplot at 0x1ac82ed20a0>"
      ]
     },
     "execution_count": 69,
     "metadata": {},
     "output_type": "execute_result"
    },
    {
     "data": {
      "image/png": "[encoded data removed]",
      "text/plain": [
       "<Figure size 720x432 with 1 Axes>"
      ]
     },
     "metadata": {
      "needs_background": "light"
     },
     "output_type": "display_data"
    }
   ],
   "source": [
    "#Least frequent Complaints\n",
    "(data['Complaint Type'].value_counts()).tail().plot(kind='bar',figsize=(10,6), title = 'Least frequent Complaints')"
   ]
  },
  {
   "cell_type": "code",
   "execution_count": 70,
   "metadata": {},
   "outputs": [
    {
     "data": {
      "text/plain": [
       "<matplotlib.axes._subplots.AxesSubplot at 0x1ac835efd90>"
      ]
     },
     "execution_count": 70,
     "metadata": {},
     "output_type": "execute_result"
    },
    {
     "data": {
      "image/png": "[encoded data removed]",
      "text/plain": [
       "<Figure size 720x432 with 1 Axes>"
      ]
     },
     "metadata": {},
     "output_type": "display_data"
    }
   ],
   "source": [
    "#Pie chart for complaints distribution across City\n",
    "(data['City'].value_counts()).head().plot(kind='pie',figsize=(10,6),explode = (0.15, 0, 0, 0, 0),autopct='%1.1f%%', title = 'Complaints distribution across Boroughs')"
   ]
  },
  {
   "cell_type": "code",
   "execution_count": 71,
   "metadata": {},
   "outputs": [],
   "source": [
    "#Analysis for Brooklyn City which has highest number of complains\n",
    "data_Brooklyn = data[data['City']=='BROOKLYN']"
   ]
  },
  {
   "cell_type": "code",
   "execution_count": 72,
   "metadata": {},
   "outputs": [
    {
     "data": {
      "text/plain": [
       "(98307, 30)"
      ]
     },
     "execution_count": 72,
     "metadata": {},
     "output_type": "execute_result"
    }
   ],
   "source": [
    "#shape\n",
    "data_Brooklyn.shape"
   ]
  },
  {
   "cell_type": "code",
   "execution_count": 73,
   "metadata": {},
   "outputs": [
    {
     "data": {
      "text/plain": [
       "<matplotlib.axes._subplots.AxesSubplot at 0x1ac835e52b0>"
      ]
     },
     "execution_count": 73,
     "metadata": {},
     "output_type": "execute_result"
    },
    {
     "data": {
      "image/png": "[encoded data removed]",
      "text/plain": [
       "<Figure size 720x432 with 1 Axes>"
      ]
     },
     "metadata": {
      "needs_background": "light"
     },
     "output_type": "display_data"
    }
   ],
   "source": [
    "(data_Brooklyn['Complaint Type'].value_counts()).head(25).plot(kind='bar',figsize=(10,6),title = 'Most Frequent Complaints in Brooklyn')"
   ]
  },
  {
   "cell_type": "code",
   "execution_count": 74,
   "metadata": {},
   "outputs": [
    {
     "data": {
      "text/plain": [
       "<matplotlib.axes._subplots.AxesSubplot at 0x1ac83dc9790>"
      ]
     },
     "execution_count": 74,
     "metadata": {},
     "output_type": "execute_result"
    },
    {
     "data": {
      "image/png": "[encoded data removed]",
      "text/plain": [
       "<Figure size 720x432 with 1 Axes>"
      ]
     },
     "metadata": {
      "needs_background": "light"
     },
     "output_type": "display_data"
    }
   ],
   "source": [
    "#location type vs complaints\n",
    "(data_Brooklyn['Location Type'].value_counts()).head().plot(kind='bar',figsize=(10,6),title = 'Location Type vs # Complaints')"
   ]
  },
  {
   "cell_type": "code",
   "execution_count": null,
   "metadata": {},
   "outputs": [],
   "source": [
    "# 4.Average Request_Closing_Time’ grouping them for different locations"
   ]
  },
  {
   "cell_type": "code",
   "execution_count": 75,
   "metadata": {},
   "outputs": [],
   "source": [
    "# Request_Closing_Time in seconds\n",
    "data['Request_Closing_Time'] = (data['Closed Date'] - data['Created Date']).dt.total_seconds() "
   ]
  },
  {
   "cell_type": "code",
   "execution_count": 76,
   "metadata": {},
   "outputs": [],
   "source": [
    "df_avg_cls_time = data.groupby('City').Request_Closing_Time.mean().sort_values(ascending=True)"
   ]
  },
  {
   "cell_type": "code",
   "execution_count": 77,
   "metadata": {},
   "outputs": [
    {
     "data": {
      "text/plain": [
       "City\n",
       "ARVERNE                 8153.736364\n",
       "ROCKAWAY PARK           8348.024161\n",
       "LITTLE NECK             9279.618962\n",
       "OAKLAND GARDENS         9471.188748\n",
       "BAYSIDE                 9645.599509\n",
       "FAR ROCKAWAY           10043.986429\n",
       "NEW YORK               10701.442279\n",
       "FLUSHING               10864.909548\n",
       "FOREST HILLS           11606.941943\n",
       "CORONA                 11620.230733\n",
       "WHITESTONE             11681.330601\n",
       "FRESH MEADOWS          11750.592417\n",
       "COLLEGE POINT          11785.070492\n",
       "JACKSON HEIGHTS        11785.197867\n",
       "CENTRAL PARK           11859.515464\n",
       "ELMHURST               11917.865694\n",
       "REGO PARK              12459.940108\n",
       "BREEZY POINT           12587.366667\n",
       "EAST ELMHURST          12879.582510\n",
       "STATEN ISLAND          13967.801913\n",
       "Howard Beach           14505.000000\n",
       "BROOKLYN               14572.730871\n",
       "Long Island City       14762.731343\n",
       "Astoria                15064.578212\n",
       "RIDGEWOOD              15990.456800\n",
       "ASTORIA                16556.086730\n",
       "SAINT ALBANS           16995.125899\n",
       "KEW GARDENS            18154.713359\n",
       "Woodside               18725.000000\n",
       "JAMAICA                18756.363038\n",
       "SOUTH OZONE PARK       19180.719742\n",
       "MIDDLE VILLAGE         19385.854958\n",
       "RICHMOND HILL          19779.516824\n",
       "WOODHAVEN              20143.722290\n",
       "MASPETH                20159.148314\n",
       "SOUTH RICHMOND HILL    20222.952055\n",
       "OZONE PARK             20451.822142\n",
       "HOLLIS                 20736.609684\n",
       "East Elmhurst          21772.071429\n",
       "BRONX                  21946.183404\n",
       "HOWARD BEACH           22179.137487\n",
       "LONG ISLAND CITY       23541.087438\n",
       "SUNNYSIDE              24667.219917\n",
       "WOODSIDE               24816.361738\n",
       "NEW HYDE PARK          27201.938776\n",
       "GLEN OAKS              31736.633987\n",
       "SPRINGFIELD GARDENS    33068.707814\n",
       "ROSEDALE               36112.053145\n",
       "CAMBRIA HEIGHTS        36445.593291\n",
       "BELLEROSE              38003.194667\n",
       "QUEENS VILLAGE         39264.676406\n",
       "FLORAL PARK            42190.276316\n",
       "QUEENS                 48935.187500\n",
       "Name: Request_Closing_Time, dtype: float64"
      ]
     },
     "execution_count": 77,
     "metadata": {},
     "output_type": "execute_result"
    }
   ],
   "source": [
    "df_avg_cls_time"
   ]
  },
  {
   "cell_type": "code",
   "execution_count": 78,
   "metadata": {},
   "outputs": [
    {
     "data": {
      "image/png": "[encoded data removed]",
      "text/plain": [
       "<Figure size 1440x360 with 1 Axes>"
      ]
     },
     "metadata": {
      "needs_background": "light"
     },
     "output_type": "display_data"
    }
   ],
   "source": [
    "df_avg_cls_time.plot.bar(figsize=(20,5))\n",
    "plt.xlabel(\"Ciites\")\n",
    "plt.ylabel(\"Average Request_Closing_Time\")\n",
    "plt.title(\"Average Request_Closing_Time’ grouping them for different locations\")\n",
    "plt.show()"
   ]
  },
  {
   "cell_type": "code",
   "execution_count": null,
   "metadata": {},
   "outputs": [],
   "source": [
    "# 5. Null and Alternate  Hypothesis"
   ]
  },
  {
   "cell_type": "code",
   "execution_count": null,
   "metadata": {},
   "outputs": [],
   "source": [
    "# Ho :Average response time across complaint types  is similar\n",
    "\n",
    "# Ha  :Average response time across complaint types is not similar"
   ]
  },
  {
   "cell_type": "code",
   "execution_count": 79,
   "metadata": {},
   "outputs": [
    {
     "data": {
      "text/plain": [
       "Complaint Type\n",
       "Posting Advertisement         7112.891975\n",
       "Illegal Fireworks             9940.101190\n",
       "Noise - Commercial           11329.755979\n",
       "Noise - House of Worship     11495.874058\n",
       "Noise - Park                 12278.636997\n",
       "Noise - Street/Sidewalk      12402.806681\n",
       "Traffic                      12415.252002\n",
       "Disorderly Youth             12810.902098\n",
       "Noise - Vehicle              12920.376270\n",
       "Urinating in Public          13055.991554\n",
       "Bike/Roller/Skate Chronic    13559.264151\n",
       "Drinking                     13902.598431\n",
       "Vending                      14450.107246\n",
       "Squeegee                     14564.250000\n",
       "Homeless Encampment          15716.052536\n",
       "Panhandling                  15741.963934\n",
       "Illegal Parking              16204.145454\n",
       "Blocked Driveway             17067.258638\n",
       "Animal Abuse                 18767.677781\n",
       "Agency Issues                18937.166667\n",
       "Graffiti                     25744.504425\n",
       "Name: Request_Closing_Time, dtype: float64"
      ]
     },
     "execution_count": 79,
     "metadata": {},
     "output_type": "execute_result"
    }
   ],
   "source": [
    "#Average response time in seconds across complaint types\n",
    "df_avg_res_time = data.groupby('Complaint Type').Request_Closing_Time.mean().sort_values(ascending=True)\n",
    "df_avg_res_time.head(21)"
   ]
  },
  {
   "cell_type": "code",
   "execution_count": 82,
   "metadata": {},
   "outputs": [
    {
     "data": {
      "text/html": [
       "<div>\n",
       "<style scoped>\n",
       "    .dataframe tbody tr th:only-of-type {\n",
       "        vertical-align: middle;\n",
       "    }\n",
       "\n",
       "    .dataframe tbody tr th {\n",
       "        vertical-align: top;\n",
       "    }\n",
       "\n",
       "    .dataframe thead th {\n",
       "        text-align: right;\n",
       "    }\n",
       "</style>\n",
       "<table border=\"1\" class=\"dataframe\">\n",
       "  <thead>\n",
       "    <tr style=\"text-align: right;\">\n",
       "      <th></th>\n",
       "      <th>Complaint Type</th>\n",
       "      <th>Request_Closing_Time</th>\n",
       "    </tr>\n",
       "  </thead>\n",
       "  <tbody>\n",
       "    <tr>\n",
       "      <th>61125</th>\n",
       "      <td>Noise - Commercial</td>\n",
       "      <td>60.0</td>\n",
       "    </tr>\n",
       "    <tr>\n",
       "      <th>163683</th>\n",
       "      <td>Noise - Commercial</td>\n",
       "      <td>120.0</td>\n",
       "    </tr>\n",
       "    <tr>\n",
       "      <th>60357</th>\n",
       "      <td>Posting Advertisement</td>\n",
       "      <td>120.0</td>\n",
       "    </tr>\n",
       "    <tr>\n",
       "      <th>222119</th>\n",
       "      <td>Noise - Street/Sidewalk</td>\n",
       "      <td>120.0</td>\n",
       "    </tr>\n",
       "    <tr>\n",
       "      <th>260083</th>\n",
       "      <td>Noise - Commercial</td>\n",
       "      <td>120.0</td>\n",
       "    </tr>\n",
       "    <tr>\n",
       "      <th>...</th>\n",
       "      <td>...</td>\n",
       "      <td>...</td>\n",
       "    </tr>\n",
       "    <tr>\n",
       "      <th>12168</th>\n",
       "      <td>Derelict Vehicle</td>\n",
       "      <td>804132.0</td>\n",
       "    </tr>\n",
       "    <tr>\n",
       "      <th>283132</th>\n",
       "      <td>Animal in a Park</td>\n",
       "      <td>1212605.0</td>\n",
       "    </tr>\n",
       "    <tr>\n",
       "      <th>21268</th>\n",
       "      <td>Animal Abuse</td>\n",
       "      <td>1869361.0</td>\n",
       "    </tr>\n",
       "    <tr>\n",
       "      <th>23664</th>\n",
       "      <td>Illegal Parking</td>\n",
       "      <td>2078496.0</td>\n",
       "    </tr>\n",
       "    <tr>\n",
       "      <th>244488</th>\n",
       "      <td>Noise - Street/Sidewalk</td>\n",
       "      <td>2134342.0</td>\n",
       "    </tr>\n",
       "  </tbody>\n",
       "</table>\n",
       "<p>298534 rows × 2 columns</p>\n",
       "</div>"
      ],
      "text/plain": [
       "                 Complaint Type  Request_Closing_Time\n",
       "61125        Noise - Commercial                  60.0\n",
       "163683       Noise - Commercial                 120.0\n",
       "60357     Posting Advertisement                 120.0\n",
       "222119  Noise - Street/Sidewalk                 120.0\n",
       "260083       Noise - Commercial                 120.0\n",
       "...                         ...                   ...\n",
       "12168          Derelict Vehicle              804132.0\n",
       "283132         Animal in a Park             1212605.0\n",
       "21268              Animal Abuse             1869361.0\n",
       "23664           Illegal Parking             2078496.0\n",
       "244488  Noise - Street/Sidewalk             2134342.0\n",
       "\n",
       "[298534 rows x 2 columns]"
      ]
     },
     "execution_count": 82,
     "metadata": {},
     "output_type": "execute_result"
    }
   ],
   "source": [
    "data[['Complaint Type','Request_Closing_Time']].isnull().sum()\n",
    "data[['Complaint Type','Request_Closing_Time']].dropna()"
   ]
  },
  {
   "cell_type": "code",
   "execution_count": 85,
   "metadata": {},
   "outputs": [
    {
     "data": {
      "text/plain": [
       "134547    171.0\n",
       "291275    180.0\n",
       "284817    238.0\n",
       "48836     240.0\n",
       "121201    240.0\n",
       "Name: Request_Closing_Time, dtype: float64"
      ]
     },
     "execution_count": 85,
     "metadata": {},
     "output_type": "execute_result"
    }
   ],
   "source": [
    "data1 = data[data['Complaint Type']=='Blocked Driveway']['Request_Closing_Time']\n",
    "data1.head()"
   ]
  },
  {
   "cell_type": "code",
   "execution_count": 86,
   "metadata": {},
   "outputs": [
    {
     "data": {
      "text/plain": [
       "68002     157.0\n",
       "234706    167.0\n",
       "5166      171.0\n",
       "200755    171.0\n",
       "81672     180.0\n",
       "Name: Request_Closing_Time, dtype: float64"
      ]
     },
     "execution_count": 86,
     "metadata": {},
     "output_type": "execute_result"
    }
   ],
   "source": [
    "data2 = data[data['Complaint Type']=='Illegal Parking']['Request_Closing_Time']\n",
    "data2.head()"
   ]
  },
  {
   "cell_type": "code",
   "execution_count": 87,
   "metadata": {},
   "outputs": [
    {
     "data": {
      "text/plain": [
       "F_onewayResult(statistic=nan, pvalue=nan)"
      ]
     },
     "execution_count": 87,
     "metadata": {},
     "output_type": "execute_result"
    }
   ],
   "source": [
    "data_1=data[data['Complaint Type']=='Blocked Driveway']['Request_Closing_Time']\n",
    "data_2=data[data['Complaint Type']=='Urinating in Public']['Request_Closing_Time']\n",
    "data_3=data[data['Complaint Type']=='Illegal Fireworks']['Request_Closing_Time']\n",
    "st.f_oneway(data_1,data2)"
   ]
  },
  {
   "cell_type": "code",
   "execution_count": null,
   "metadata": {},
   "outputs": [],
   "source": [
    "# From the above data null hypothesis can be rejected . Since the average response time across complaint type are not equal"
   ]
  },
  {
   "cell_type": "code",
   "execution_count": null,
   "metadata": {},
   "outputs": [],
   "source": [
    "# Ho : Type of complaint  and location related\n",
    "\n",
    "# Ha : Type of complaint  and location not related"
   ]
  },
  {
   "cell_type": "code",
   "execution_count": 55,
   "metadata": {},
   "outputs": [],
   "source": [
    "com =data.groupby(['Complaint Type'])"
   ]
  },
  {
   "cell_type": "code",
   "execution_count": 56,
   "metadata": {},
   "outputs": [
    {
     "data": {
      "text/plain": [
       "<matplotlib.axes._subplots.AxesSubplot at 0x1ac82ed5df0>"
      ]
     },
     "execution_count": 56,
     "metadata": {},
     "output_type": "execute_result"
    },
    {
     "data": {
      "image/png": "[encoded data removed]",
      "text/plain": [
       "<Figure size 720x432 with 1 Axes>"
      ]
     },
     "metadata": {
      "needs_background": "light"
     },
     "output_type": "display_data"
    }
   ],
   "source": [
    "(com['City'].value_counts()).head(25).plot(kind='bar',figsize=(10,6),title = 'Type of complaint  and location related')"
   ]
  },
  {
   "cell_type": "code",
   "execution_count": 57,
   "metadata": {},
   "outputs": [],
   "source": [
    "df_city_type = pd.crosstab(data['City'], data['Complaint Type'])"
   ]
  },
  {
   "cell_type": "code",
   "execution_count": 58,
   "metadata": {
    "scrolled": true
   },
   "outputs": [],
   "source": [
    "stat, p, dof, expected = chi2_contingency(df_city_type)"
   ]
  },
  {
   "cell_type": "code",
   "execution_count": 59,
   "metadata": {},
   "outputs": [
    {
     "data": {
      "text/plain": [
       "0.0"
      ]
     },
     "execution_count": 59,
     "metadata": {},
     "output_type": "execute_result"
    }
   ],
   "source": [
    "p"
   ]
  },
  {
   "cell_type": "code",
   "execution_count": null,
   "metadata": {},
   "outputs": [],
   "source": [
    "# From the above data null hypothesis can be rejected  . Since the p value is less than alpha (0.05)"
   ]
  }
 ],
 "metadata": {
  "kernelspec": {
   "display_name": "Python 3",
   "language": "python",
   "name": "python3"
  },
  "language_info": {
   "codemirror_mode": {
    "name": "ipython",
    "version": 3
   },
   "file_extension": ".py",
   "mimetype": "text/x-python",
   "name": "python",
   "nbconvert_exporter": "python",
   "pygments_lexer": "ipython3",
   "version": "3.8.3"
  }
 },
 "nbformat": 4,
 "nbformat_minor": 4
}
